{
  "nbformat": 4,
  "nbformat_minor": 0,
  "metadata": {
    "colab": {
      "provenance": [],
      "authorship_tag": "ABX9TyMx5QLj7Lhlp/ecpFtQICd6",
      "include_colab_link": true
    },
    "kernelspec": {
      "name": "python3",
      "display_name": "Python 3"
    },
    "language_info": {
      "name": "python"
    },
    "accelerator": "GPU",
    "gpuClass": "standard"
  },
  "cells": [
    {
      "cell_type": "markdown",
      "metadata": {
        "id": "view-in-github",
        "colab_type": "text"
      },
      "source": [
        "<a href=\"https://colab.research.google.com/github/erwinsot/Cuda/blob/main/Practica_3_paralela.ipynb\" target=\"_parent\"><img src=\"https://colab.research.google.com/assets/colab-badge.svg\" alt=\"Open In Colab\"/></a>"
      ]
    },
    {
      "cell_type": "code",
      "source": [
        "!pip install git+https://github.com/andreinechaev/nvcc4jupyter.git\n",
        "%load_ext nvcc_plugin\n",
        "!wget --no-check-certificate \\\n",
        "    https://raw.githubusercontent.com/computationalcore/introduction-to-opencv/master/assets/haarcascade_frontalface_default.xml \\\n",
        "    -O haarcascade_frontalface_default.xml\n",
        "!wget --no-check-certificate \\\n",
        "    https://raw.githubusercontent.com/computationalcore/introduction-to-opencv/master/utils/common.py \\\n",
        "    -O common.py"
      ],
      "metadata": {
        "id": "Y8z4AG5Wm9y-"
      },
      "execution_count": null,
      "outputs": []
    },
    {
      "cell_type": "code",
      "source": [
        "!pip install pycuda # install cuda\n",
        "import pycuda.driver as cuda\n",
        "import pycuda.autoinit\n",
        "from pycuda.compiler import SourceModule"
      ],
      "metadata": {
        "id": "sazYf2n-GxrR"
      },
      "execution_count": null,
      "outputs": []
    },
    {
      "cell_type": "code",
      "source": [
        "%%writefile gaussian_blur.cu\n",
        "__global__ void applyFilter(const unsigned char *input, unsigned char *output, const unsigned int corx, const unsigned int cory,const unsigned int width, const unsigned int height,const unsigned int width2, const unsigned int height2, const float *kernel, const unsigned int kernelWidth) {\n",
        "\n",
        "   \n",
        "    const unsigned int col2 = threadIdx.x  + blockIdx.x * blockDim.x;  \n",
        "    const unsigned int row2 = threadIdx.y + blockIdx.y * blockDim.y;\n",
        "    \n",
        "    \n",
        "    if(row2 >=cory && row2 <= height2+cory &&  col2 >=corx && col2 <= width2+corx) {\n",
        "        const int half = kernelWidth / 2;        \n",
        "        float blur = 0.0;\n",
        "        for(int i = -half; i <= half; i++) {\n",
        "            for(int j = -half; j <= half; j++) {\n",
        "\n",
        "                const unsigned int y = max(0, min(height -1 , row2 + i));\n",
        "                const unsigned int x = max(0, min(width -1, col2 + j));\n",
        "                //printf(\"%d %d \\n\", y,x);\n",
        "\n",
        "                const float w = kernel[(j + half) + (i + half) * kernelWidth];\n",
        "                blur += w * input[x + y * width];\n",
        "            }\n",
        "        }\n",
        "        output[col2 + row2 * width] = static_cast<unsigned char>(blur);\n",
        "    }\n",
        "    else\n",
        "    { \n",
        "      output[col2 + row2 * width]= input[col2 + row2 * width];\n",
        "    }   \n",
        "   \n",
        "}"
      ],
      "metadata": {
        "colab": {
          "base_uri": "https://localhost:8080/"
        },
        "id": "_6ODvFzWsUYB",
        "outputId": "52f011eb-b155-4d92-bf4d-9ce48001197e"
      },
      "execution_count": 3,
      "outputs": [
        {
          "output_type": "stream",
          "name": "stdout",
          "text": [
            "Writing gaussian_blur.cu\n"
          ]
        }
      ]
    },
    {
      "cell_type": "code",
      "source": [
        "%%writefile main.py\n",
        "import numpy as np\n",
        "import cv2\n",
        "import os\n",
        "import imutils\n",
        "from PIL import Image\n",
        "import pycuda.autoinit\n",
        "import pycuda.driver as drv\n",
        "import pycuda.compiler as compiler\n",
        "import numpy as np\n",
        "import math\n",
        "import sys\n",
        "import timeit\n",
        "from PIL import Image\n",
        "import cv2\n",
        "import glob\n",
        "\n",
        "personName = 'DetecFace'\n",
        "personName2= 'BlurFace'\n",
        "dataPath = '/content/images3'     #Cambia a la ruta donde hayas almacenado Data\n",
        "dataPathTxt = '/content/images3'\n",
        "personPath = dataPath + '/' + personName\n",
        "personPath2 = dataPath + '/' + personName2\n",
        "\n",
        "if not os.path.exists(personPath):\n",
        "    print('Carpeta creada: ',personPath)\n",
        "    os.makedirs(personPath)\n",
        "if not os.path.exists(personPath2):\n",
        "    print('Carpeta creada: ',personPath2)\n",
        "    os.makedirs(personPath2)\n",
        "#cap = cv2.VideoCapture(0,cv2.CAP_DSHOW)\n",
        "cap = cv2.VideoCapture('ros.mp4')\n",
        "faceClassif = cv2.CascadeClassifier('haarcascade_frontalface_default.xml')\n",
        "count = 0\n",
        "\n",
        "\n",
        "# ######################################## #\n",
        "# generate gaussian kernel (size of N * N) #\n",
        "# ######################################## #\n",
        "\n",
        "sigma = 9  # standard deviation of the distribution\n",
        "kernel_width = int(3 * sigma)\n",
        "if kernel_width % 2 == 0:\n",
        "    kernel_width = kernel_width - 1  # make sure kernel width only sth 3,5,7 etc\n",
        "\n",
        "# create empty matrix for the gaussian kernel #\n",
        "kernel_matrix = np.empty((kernel_width, kernel_width), np.float32)\n",
        "kernel_half_width = kernel_width // 2\n",
        "for i in range(-kernel_half_width, kernel_half_width + 1):\n",
        "    for j in range(-kernel_half_width, kernel_half_width + 1):\n",
        "        kernel_matrix[i + kernel_half_width][j + kernel_half_width] = (\n",
        "                np.exp(-(i ** 2 + j ** 2) / (2 * sigma ** 2))\n",
        "                / (2 * np.pi * sigma ** 2)\n",
        "        )\n",
        "gaussian_kernel = kernel_matrix / kernel_matrix.sum()\n",
        "\n",
        "# start time\n",
        "time_started = timeit.default_timer()\n",
        "\n",
        "while True:    \n",
        "    ret, frame = cap.read()    \n",
        "    if ret == False: break\n",
        "    frame =  imutils.resize(frame, width=640)    \n",
        "    gray = cv2.cvtColor(frame, cv2.COLOR_BGR2GRAY)\n",
        "    auxFrame = frame.copy()\n",
        "    faces = faceClassif.detectMultiScale(gray,1.3,5)\n",
        "    result = faces[0].reshape(1,-1).flatten().tolist()\n",
        "    height2=result[2]\n",
        "    width2=result[3]\n",
        "    corx=result[0]\n",
        "    cory=result[1]    \n",
        "    for (x,y,w,h) in faces:\n",
        "        cv2.rectangle(frame, (x,y),(x+w,y+h),(0,255,0),2)\n",
        "        rostro = auxFrame[y:y+h,x:x+w]\n",
        "        #rostro=cv2.GaussianBlur(rostro,(23,23),30)\n",
        "        frame[y:y+rostro.shape[0], x:x+rostro.shape[1]] = rostro\n",
        "        \n",
        "        #rostro = cv2.resize(rostro,(150,150),interpolation=cv2.INTER_CUBIC)\n",
        "        \n",
        "        cv2.imwrite(personPath + '/rotro_{}.jpg'.format(count),frame) \n",
        "        try:\n",
        "            img = Image.open(personPath + '/rotro_{}.jpg'.format(count))\n",
        "            input_array = np.array(img)\n",
        "            red_channel = input_array[:, :, 0].copy()\n",
        "            green_channel = input_array[:, :, 1].copy()\n",
        "            blue_channel = input_array[:, :, 2].copy()\n",
        "          \n",
        "        except FileNotFoundError:\n",
        "            sys.exit(\"Cannot load image file\")\n",
        "\n",
        "        # #################################################################### #\n",
        "        # calculate the CUDA threats/blocks/gird base on width/height of image\n",
        "        # #################################################################### #\n",
        "        height, width = input_array.shape[:2]\n",
        "        dim_block = 32\n",
        "        dim_grid_x = math.ceil(width / dim_block )\n",
        "        dim_grid_y = math.ceil(height / dim_block)\n",
        "       \n",
        "        # load CUDA code\n",
        "        mod = compiler.SourceModule(open('gaussian_blur.cu').read())\n",
        "        apply_filter = mod.get_function('applyFilter')\n",
        "       \n",
        "\n",
        "        # ##################\n",
        "        # apply the  filter\n",
        "        # ##################     \n",
        "        \n",
        "\n",
        "        for channel in (red_channel, green_channel, blue_channel):\n",
        "            apply_filter(\n",
        "                drv.In(channel),\n",
        "                drv.Out(channel),\n",
        "                np.uint32(corx),\n",
        "                np.uint32(cory),\n",
        "                np.uint32(width),\n",
        "                np.uint32(height),\n",
        "                np.uint32(width2),\n",
        "                np.uint32(height2),        \n",
        "                drv.In(gaussian_kernel),\n",
        "                np.uint32(kernel_width),\n",
        "                block=(dim_block, dim_block, 1),\n",
        "                grid=(dim_grid_x, dim_grid_y)\n",
        "            )     \n",
        "        \n",
        "\n",
        "\n",
        "        # ####################################################################### #\n",
        "        # create the output array with the same shape and type as the input array #\n",
        "        # ####################################################################### #\n",
        "        output_array = np.empty_like(input_array)\n",
        "        output_array[:, :, 0] = red_channel\n",
        "        output_array[:, :, 1] = green_channel\n",
        "        output_array[:, :, 2] = blue_channel\n",
        "\n",
        "        # save result image\n",
        "        Image.fromarray(output_array).save(personPath2 + '/faceBlur_{}.jpg'.format(count))       \n",
        "        count = count + 1\n",
        "   \n",
        "    k =  cv2.waitKey(1)\n",
        "    if k == 27 or count >= 300:\n",
        "        break\n",
        "# end time\n",
        "time_ended = timeit.default_timer()\n",
        "\n",
        "img_array = []\n",
        "\n",
        "#For para leer imagenes desde un directorio\n",
        "for x in range (0,299):\n",
        "    path = '/content/images3/BlurFace/faceBlur_%01d.jpg' % x\n",
        "    img = cv2.imread(path)\n",
        "    img_array.append(img)\n",
        "\n",
        "#Tamaño de la última imagen alto y ancho\n",
        "height, width  = img.shape[:2]\n",
        "\n",
        "video = cv2.VideoWriter('rosBlur.mp4', cv2.VideoWriter_fourcc(*'mp4v'), 30, (width,height))\n",
        "\n",
        "#For para guardar frames en un video\n",
        "for i in range(len(img_array)):\n",
        "    video.write(img_array[i])\n",
        "\n",
        "video.release() \n",
        "\n",
        "# display total time\n",
        "print('Total processing time: ', time_ended - time_started, 's')\n",
        "cap.release()\n",
        "cv2.destroyAllWindows()\n",
        "\n",
        "\n"
      ],
      "metadata": {
        "colab": {
          "base_uri": "https://localhost:8080/"
        },
        "id": "OjOpoNO-Ge6M",
        "outputId": "15f2ab8e-e15e-4168-ffe3-dc7708eb1514"
      },
      "execution_count": 71,
      "outputs": [
        {
          "output_type": "stream",
          "name": "stdout",
          "text": [
            "Overwriting main.py\n"
          ]
        }
      ]
    },
    {
      "cell_type": "code",
      "source": [
        "!python main.py"
      ],
      "metadata": {
        "colab": {
          "base_uri": "https://localhost:8080/"
        },
        "id": "mElQ1UdsGlK0",
        "outputId": "b5e65bcc-b261-4e24-b02f-95e938491290"
      },
      "execution_count": 72,
      "outputs": [
        {
          "output_type": "stream",
          "name": "stdout",
          "text": [
            "Total processing time:  15.852631610999197 s\n"
          ]
        }
      ]
    },
    {
      "cell_type": "code",
      "source": [
        "#Librería opencv\n",
        "import cv2\n",
        "\n",
        "#Arreglo vacío\n",
        "img_array = []\n",
        "\n",
        "#For para leer imagenes desde un directorio\n",
        "for x in range (0,299):\n",
        "    path = '/content/images3/BlurFace/faceBlur_%01d.jpg' % x\n",
        "    img = cv2.imread(path)\n",
        "    img_array.append(img)\n",
        "\n",
        "#Tamaño de la última imagen alto y ancho\n",
        "height, width  = img.shape[:2]\n",
        "\n",
        "video = cv2.VideoWriter('db1.mp4', cv2.VideoWriter_fourcc(*'mp4v'), 30, (width,height))\n",
        "\n",
        "#For para guardar frames en un video\n",
        "for i in range(len(img_array)):\n",
        "    video.write(img_array[i])\n",
        "\n",
        "video.release()  "
      ],
      "metadata": {
        "id": "KEz5G7lSyBrD"
      },
      "execution_count": 68,
      "outputs": []
    },
    {
      "cell_type": "code",
      "execution_count": null,
      "metadata": {
        "id": "QA7qJA7GOr43",
        "colab": {
          "base_uri": "https://localhost:8080/"
        },
        "outputId": "4b82042c-4b87-475e-a991-4111782f4fd0"
      },
      "outputs": [
        {
          "output_type": "stream",
          "name": "stdout",
          "text": [
            "Overwriting im.cu\n"
          ]
        }
      ],
      "source": [
        "%%writefile im.cu\n",
        "\n",
        "#define STB_IMAGE_IMPLEMENTATION\n",
        "#define STB_IMAGE_WRITE_IMPLEMENTATION\n",
        "#include \"stb_image.h\"\n",
        "#include \"stb_image_write.h\"\n",
        "#include <iostream>\n",
        "#define BLUR_SIZE 18\n",
        "#define R 0\n",
        "#define G 1\n",
        "#define B 2\n",
        "#define A 3\n",
        "\n",
        "__global__ void blurKernel(unsigned char* in, unsigned char* out, int width, int height, int num_channel, int channel, int copy_A) {\n",
        "\n",
        "  int col = blockIdx.x * blockDim.x + threadIdx.x+239;\n",
        "  int row = blockIdx.y * blockDim.y + threadIdx.y+20;\n",
        "\n",
        "  if(col < width+239 && row < height+20) {\n",
        "    int pixVal = 0;\n",
        "    int pixels = 0;\n",
        "    if (copy_A)\n",
        "    out[row*width*num_channel+col*num_channel+A] = in[row*width*num_channel+col*num_channel+A];\n",
        "    for(int blurRow = -BLUR_SIZE; blurRow < BLUR_SIZE + 1; ++blurRow) {\n",
        "      for(int blurCol = -BLUR_SIZE; blurCol < BLUR_SIZE + 1; ++blurCol) {\n",
        "        int curRow = row + blurRow;\n",
        "        int curCol = col + blurCol;\n",
        "        if(curRow > -1 && curRow < height && curCol > -1 && curCol < width) {\n",
        "          pixVal += in[curRow * width * num_channel + curCol * num_channel + channel];\n",
        "          pixels++;\n",
        "        }\n",
        "      }\n",
        "    }\n",
        "    out[row * width * num_channel + col * num_channel + channel] = (unsigned char)(pixVal/pixels);\n",
        "  }\n",
        "}\n",
        "\n",
        "int main() {\n",
        "\n",
        "  int width, height,n;\n",
        "  unsigned char *image = stbi_load(\"1366_2000.jpg\",&width,&height,&n,0);\n",
        "  printf(\"%d \\n\",height);\n",
        "  printf(\"%d \\n\",width);\n",
        "\n",
        "  unsigned char *output = (unsigned char*)malloc(width * height * n *sizeof(unsigned char));\n",
        "  unsigned char* Dev_Input_Image = NULL;\n",
        "  unsigned char* Dev_Output_Image = NULL;\n",
        "  cudaMalloc((void**)&Dev_Input_Image, sizeof(unsigned char)* height * width * n);\n",
        "  cudaMalloc((void**)&Dev_Output_Image, sizeof(unsigned char)* height * width * n);\n",
        "\n",
        "  cudaMemcpy(Dev_Input_Image, image, sizeof(unsigned char) * height * width * n, cudaMemcpyHostToDevice);\n",
        "\n",
        "  //kernel call\n",
        "  dim3 blockSize(16, 16, 1);\n",
        "  dim3 gridSize(width/blockSize.x, height/blockSize.y,1);\n",
        "  printf(\"%d %d\",width/blockSize.x,height/blockSize.y);\n",
        "  blurKernel <<<gridSize, blockSize>>>(Dev_Input_Image, Dev_Output_Image, width, height,n,R,0);\n",
        "  blurKernel <<<gridSize, blockSize>>>(Dev_Input_Image, Dev_Output_Image, width, height,n,G,0);\n",
        "  blurKernel <<<gridSize, blockSize>>>(Dev_Input_Image, Dev_Output_Image, width, height,n,B,1);\n",
        "  \n",
        "  cudaDeviceSynchronize();\n",
        "\n",
        "  cudaMemcpy(image, Dev_Output_Image, sizeof(unsigned char) * height * width * n, cudaMemcpyDeviceToHost);\n",
        "  cudaFree(Dev_Input_Image);\n",
        "  cudaFree(Dev_Output_Image);\n",
        "  stbi_write_png(\"output_stbimage2.png\", width, height, n, image, width * n);\n",
        "\n",
        "\n",
        "  return 0;\n",
        "} "
      ]
    },
    {
      "cell_type": "code",
      "source": [
        "!nvcc -arch=sm_37 -gencode=arch=compute_37,code=sm_37 im.cu -o him"
      ],
      "metadata": {
        "colab": {
          "base_uri": "https://localhost:8080/"
        },
        "id": "2XQivJoNnG3M",
        "outputId": "a5a429ba-42c1-44fe-e427-1beab4a51365"
      },
      "execution_count": null,
      "outputs": [
        {
          "output_type": "stream",
          "name": "stdout",
          "text": [
            "nvcc warning : The 'compute_35', 'compute_37', 'compute_50', 'sm_35', 'sm_37' and 'sm_50' architectures are deprecated, and may be removed in a future release (Use -Wno-deprecated-gpu-targets to suppress warning).\n",
            "stb_image.h(4207): warning: variable \"old_limit\" was set but never used\n",
            "\n",
            "stb_image.h(5121): warning: variable \"idata_limit_old\" was set but never used\n",
            "\n",
            "stb_image.h(6894): warning: variable \"out_size\" was set but never used\n",
            "\n",
            "stb_image.h(6895): warning: variable \"delays_size\" was set but never used\n",
            "\n"
          ]
        }
      ]
    },
    {
      "cell_type": "code",
      "source": [
        "!./him"
      ],
      "metadata": {
        "colab": {
          "base_uri": "https://localhost:8080/"
        },
        "id": "B8OFUunG8Avu",
        "outputId": "f5e5a078-0c2b-486d-a96b-44ee56156f97"
      },
      "execution_count": null,
      "outputs": [
        {
          "output_type": "stream",
          "name": "stdout",
          "text": [
            "930 \n",
            "1291 \n",
            "80 58"
          ]
        }
      ]
    }
  ]
}